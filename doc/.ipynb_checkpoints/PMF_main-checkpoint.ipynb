{
 "cells": [
  {
   "cell_type": "markdown",
   "metadata": {},
   "source": [
    "# Project 4: PMF with KNN and Kernel Ridge Post-processing"
   ]
  },
  {
   "cell_type": "markdown",
   "metadata": {},
   "source": [
    "In this project, we explore probabilistic matrix factorization for recommender system. The goal is to match consumers with most appropriate products. We use two different methods for post-processing: KNN and Kernel Ridge Regression. We combine the prediction results from PMF and post-processing by using linear regression."
   ]
  },
  {
   "cell_type": "markdown",
   "metadata": {},
   "source": [
    "## Step 1: Load Data and Train-test Split\n",
    "Import modules and packages."
   ]
  },
  {
   "cell_type": "code",
   "execution_count": 1,
   "metadata": {
    "colab": {},
    "colab_type": "code",
    "id": "UVozvvQUKnb3"
   },
   "outputs": [],
   "source": [
    "import pandas as pd\n",
    "import numpy as np\n",
    "from sklearn.model_selection import train_test_split\n",
    "from sklearn.metrics import mean_squared_error\n",
    "from math import sqrt\n",
    "import seaborn as sns\n",
    "import matplotlib.pylab as plt\n",
    "import time\n",
    "import PMF_model\n",
    "%matplotlib inline"
   ]
  },
  {
   "cell_type": "markdown",
   "metadata": {},
   "source": [
    "Load data and do train_test_split. Here we split again the train set into train set and validation set."
   ]
  },
  {
   "cell_type": "code",
   "execution_count": 13,
   "metadata": {
    "colab": {},
    "colab_type": "code",
    "id": "RoYQrrVP1kh6"
   },
   "outputs": [],
   "source": [
    "data = pd.read_csv('ratings.csv')\n",
    "\n",
    "# train_test_split\n",
    "train, test = train_test_split(data, test_size = 0.2, stratify = data['userId'])\n",
    "\n",
    "# Comment out the line below not to include validation set\n",
    "train, validation = train_test_split(train, test_size = 0.1, stratify = train['userId'])\n",
    "\n",
    "train_data = np.array(train.iloc[:,:-1])\n",
    "test_data = np.array(test.iloc[:,:-1])\n",
    "\n",
    "# Comment out the line below not to include validation set\n",
    "validation_data = np.array(validation.iloc[:,:-1])\n",
    "\n",
    "num_users = max(data['userId'].values)\n",
    "num_items = max(data['movieId'].values)"
   ]
  },
  {
   "cell_type": "markdown",
   "metadata": {},
   "source": [
    "## Step 2: Matrix Factorization and Parameter Tuning\n",
    "PMF from module PMF_model perform gradien descent to do probabilistic matrix factorization. The algorithm consider case that there are new users and movies adding to the dataset used to train. That is, the dimension of the matrix R (n*m), U (f*n), V (f*m) is dynamic.\n",
    "\n",
    "Define function for grid search cross validation. The function takes in lists for sigma, sigma_u, sigma_v and latent_size each and return lists of sets of parameters and corresponding test_rmse."
   ]
  },
  {
   "cell_type": "code",
   "execution_count": 14,
   "metadata": {
    "colab": {},
    "colab_type": "code",
    "id": "H2y53pNvSayv"
   },
   "outputs": [],
   "source": [
    "# grid search for PMF\n",
    "def GridSearch(sigma, sigma_u, sigma_v, latent_size):\n",
    "    from sklearn.model_selection import KFold\n",
    "    from statistics import mean\n",
    "    params = []\n",
    "    test_rmse = []\n",
    "\n",
    "    # performing cv with k=3 for each set of parameters\n",
    "    kf = KFold(n_splits=3, shuffle=True, random_state=1)\n",
    "    for s in sigma:\n",
    "        for su in sigma_u:\n",
    "            for sv in sigma_v:\n",
    "                for ls in latent_size:\n",
    "                    print(\"Training with sigma={:f}, sigma_u={:f}, sigma_v={:f}, latent_size={:d}\".format(s, su, sv, ls))\n",
    "                    params.append([s, su, sv, ls])\n",
    "                    model=PMF_model.PMF(m = num_items, n=num_users, sigma=s, sigma_u=su, sigma_v=sv, latent_size=ls)\n",
    "                    rmse_list = []\n",
    "                    \n",
    "                    # KFold\n",
    "                    cnt=1\n",
    "                    for train_index, test_index in kf.split(train_data):\n",
    "                        print(\" Training fold {:d}\".format(cnt))\n",
    "                        train_k = train_data[train_index, :]\n",
    "                        test_k = train_data[test_index, :]\n",
    "                        U, V, validation_rmse = model.fit(train_data=train_k, validation_data=validation_data)\n",
    "                        preds = model.predict(data=test_k)\n",
    "\n",
    "                        # get rmse for the given fold\n",
    "                        rmse = sqrt(mean_squared_error(test_k[:, 2],preds))\n",
    "                        rmse_list.append(rmse)\n",
    "                        cnt+=1\n",
    "\n",
    "                    # Get average rmse for all folds for the given set of parameters\n",
    "                    test_rmse.append(mean(rmse_list))\n",
    "                    print(\" rmse:{:f}\\n\".format(mean(rmse_list)))\n",
    "    return params, test_rmse"
   ]
  },
  {
   "cell_type": "markdown",
   "metadata": {},
   "source": [
    "From testing different values, we observed that the sigmas' are the parameters that affects RMSE the most. So we tuned them first. To aim for lambdas 0.01, 0.001, and 0.0001, we did grid search with sigma fixed and only changed sigma_u and sigma_v. We repeated this process with different sigmas."
   ]
  },
  {
   "cell_type": "code",
   "execution_count": 15,
   "metadata": {
    "colab": {
     "base_uri": "https://localhost:8080/",
     "height": 837
    },
    "colab_type": "code",
    "id": "I3mIXlVpTlVD",
    "outputId": "9e2ada00-388c-4b2f-e2cd-2f5fade67f68"
   },
   "outputs": [],
   "source": [
    "sigma=[0.001]\n",
    "sigma_u=[0.1, 0.03, 0.01]\n",
    "sigma_v=[0.1, 0.03, 0.01]\n",
    "latent_size=[10]\n",
    "\n",
    "params, test_rmse = GridSearch(sigma, sigma_u, sigma_v, latent_size)\n",
    "best_idx = test_rmse.index(min(test_rmse))\n",
    "print(\"Best parameters: {}\".format(params[best_idx]))\n",
    "print(\"Best rmse:{}\".format(min(test_rmse)))\n",
    "best_rmse = min(test_rmse)\n",
    "best_params = params[best_idx]"
   ]
  },
  {
   "cell_type": "code",
   "execution_count": 16,
   "metadata": {
    "colab": {
     "base_uri": "https://localhost:8080/",
     "height": 802
    },
    "colab_type": "code",
    "id": "tkPD1CexZ-nn",
    "outputId": "cfa3e306-0bc8-4947-8fb0-eabea74d3e06"
   },
   "outputs": [],
   "source": [
    "sigma=[0.01]\n",
    "sigma_u=[1.0, 0.3, 0.1]\n",
    "sigma_v=[1.0, 0.3, 0.1]\n",
    "latent_size=[10]\n",
    "\n",
    "params, test_rmse = GridSearch(sigma, sigma_u, sigma_v, latent_size)\n",
    "best_idx = test_rmse.index(min(test_rmse))\n",
    "print(\"Best parameters: {}\".format(params[best_idx]))\n",
    "print(\"Best rmse:{}\".format(min(test_rmse)))\n",
    "if min(test_rmse)<best_rmse:\n",
    "    best_rmse = min(test_rmse)\n",
    "    best_params = params[best_idx]"
   ]
  },
  {
   "cell_type": "code",
   "execution_count": 17,
   "metadata": {
    "colab": {
     "base_uri": "https://localhost:8080/",
     "height": 34
    },
    "colab_type": "code",
    "id": "I3JDEBtGUG7x",
    "outputId": "d4297dbc-079a-46c7-c8fe-56b82c22a734"
   },
   "outputs": [],
   "source": [
    "sigma=[1.0]\n",
    "sigma_u=[10.0, 3.0, 1.0]\n",
    "sigma_v=[10.0, 3.0, 1.0]\n",
    "latent_size=[10]\n",
    "\n",
    "params, test_rmse = GridSearch(sigma, sigma_u, sigma_v, latent_size)\n",
    "best_idx = test_rmse.index(min(test_rmse))\n",
    "print(\"Best parameters: {}\".format(params[best_idx]))\n",
    "print(\"Best rmse:{}\".format(min(test_rmse)))\n",
    "if min(test_rmse)<best_rmse:\n",
    "    best_rmse = min(test_rmse)\n",
    "    best_params = params[best_idx]"
   ]
  },
  {
   "cell_type": "markdown",
   "metadata": {},
   "source": [
    "From the above grid search, we concluded that smaller sigmas work better. Then we performed cross validation for a different latent size for the smaller sigmas."
   ]
  },
  {
   "cell_type": "code",
   "execution_count": 18,
   "metadata": {
    "colab": {},
    "colab_type": "code",
    "id": "nDjyGxbKbGZ7"
   },
   "outputs": [],
   "source": [
    "sigma=[best_params[0]]\n",
    "sigma_u=[best_params[1]]\n",
    "sigma_v=[best_params[2]]\n",
    "latent_size=[20]\n",
    "\n",
    "params, test_rmse = GridSearch(sigma, sigma_u, sigma_v, latent_size)\n",
    "best_idx = test_rmse.index(min(test_rmse))\n",
    "if min(test_rmse)<best_rmse:\n",
    "    best_rmse = min(test_rmse)\n",
    "    best_params = params[best_idx]\n",
    "print(\"Best parameters: {}\".format(best_params))\n",
    "print(\"Best rmse:{}\".format(best_rmse))"
   ]
  },
  {
   "cell_type": "markdown",
   "metadata": {},
   "source": [
    "Finally, train the model with the whole training data, using the best parameters(sigma=0.001, sigma_u=0.03, sigma_v=0.03, latent_size=10) found from grid search."
   ]
  },
  {
   "cell_type": "code",
   "execution_count": 19,
   "metadata": {
    "colab": {
     "base_uri": "https://localhost:8080/",
     "height": 239
    },
    "colab_type": "code",
    "id": "Ai-GM34rMNrk",
    "outputId": "40ee3680-b34a-45e7-a69a-e5bfbcd5624e"
   },
   "outputs": [
    {
     "name": "stdout",
     "output_type": "stream",
     "text": [
      "PMF(sigma=0.001000, sigma_u=0.030000, sigma_v=0.030000, latent_size=10)\n",
      "\n",
      "training model...\n",
      "training iteration: 0, loss: 484617.041984, validation_rmse: 3.659554)\n",
      "training iteration: 100, loss: 21772.462191, validation_rmse: 1.162506\n",
      "convergence at iterations: 139\n",
      "train rmse:0.699220\n",
      "\n",
      "testing model...\n",
      "test rmse:1.153616\n"
     ]
    }
   ],
   "source": [
    "# construct model\n",
    "sigma = [best_params[0]]\n",
    "sigma_u = [best_params[1]]\n",
    "sigma_v = [best_params[2]]\n",
    "latent_size = [best_params[3]]\n",
    "\n",
    "num_iter = 2000\n",
    "model = PMF_model.PMF(m = num_items, n = num_users, sigma = sigma, sigma_u = sigma_u, sigma_v = sigma_v, lr=0.001, latent_size=latent_size)\n",
    "print('PMF(sigma={:f}, sigma_u={:f}, sigma_v={:f}, latent_size={:d})'.format(sigma, sigma_u, sigma_v, latent_size))\n",
    "print('\\ntraining model...')\n",
    "U, V, validation_rmse = model.fit(train_data=train_data, validation_data=validation_data)\n",
    "\n",
    "train_preds = model.predict(data=train_data)\n",
    "train['pmf_preds'] = train_preds\n",
    "train_rmse = sqrt(mean_squared_error(train_data[:, 2],train_preds))\n",
    "print('train rmse:{:f}'.format(train_rmse))\n",
    "\n",
    "print('\\ntesting model...')\n",
    "preds = model.predict(data=test_data)\n",
    "test['pmf_preds']=preds\n",
    "test_rmse = sqrt(mean_squared_error(test_data[:, 2],preds))\n",
    "print('test rmse:{:f}'.format(test_rmse))\n",
    "\n",
    "# np.save('U.npy', U)\n",
    "# np.save('V.npy', V)"
   ]
  },
  {
   "cell_type": "code",
   "execution_count": 6,
   "metadata": {},
   "outputs": [],
   "source": [
    "# U=np.load('U.npy')\n",
    "# V=np.load('V.npy')"
   ]
  },
  {
   "cell_type": "markdown",
   "metadata": {},
   "source": [
    "Training and testing RMSE by different dimensions of factors and epochs are visualized below. We can see that the gradient descent algorithm is working successfully as RMSE gets lower as we train more epochs. As mentioned above, the different number of features show only slight change in RMSE."
   ]
  },
  {
   "cell_type": "code",
   "execution_count": 21,
   "metadata": {
    "colab": {},
    "colab_type": "code",
    "id": "Ld6ehmeKyvTi"
   },
   "outputs": [],
   "source": [
    "# Get RMSE\n",
    "num_iter = 120\n",
    "model_10 = PMF_model.PMF(m = num_items, n = num_users, sigma = sigma, sigma_u = sigma_u, sigma_v = sigma_v, lr=0.001, latent_size=10)\n",
    "_, _, train_rmse_10, test_rmse_10 = model_10.fit(train_data=train_data, test_data = test_data)\n",
    "\n",
    "model_20 = PMF_model.PMF(m = num_items, n = num_users, sigma = sigma, sigma_u = sigma_u, sigma_v = sigma_v, lr=0.001, latent_size=20)\n",
    "_, _, train_rmse_20, test_rmse_20 = model_20.fit(train_data=train_data, test_data = test_data)\n",
    "\n",
    "# np.save('train_rmse_10.npy', np.array(train_rmse_10))\n",
    "# np.save('test_rmse_10.npy', np.array(test_rmse_10))\n",
    "# np.save('train_rmse_20.npy', np.array(train_rmse_20))\n",
    "# np.save('test_rmse_20.npy', np.array(test_rmse_20))"
   ]
  },
  {
   "cell_type": "code",
   "execution_count": 22,
   "metadata": {},
   "outputs": [],
   "source": [
    "# train_rmse_10 = np.load('train_rmse_10.npy')\n",
    "# test_rmse_10 = np.load('test_rmse_10.npy')\n",
    "# train_rmse_20 = np.load('train_rmse_20.npy')\n",
    "# test_rmse_20 = np.load('test_rmse_20.npy')"
   ]
  },
  {
   "cell_type": "code",
   "execution_count": 41,
   "metadata": {
    "colab": {},
    "colab_type": "code",
    "id": "NA7mTy9L1_wV"
   },
   "outputs": [
    {
     "data": {
      "image/png": "[encoded data removed]",
      "text/plain": [
       "<Figure size 1440x1152 with 2 Axes>"
      ]
     },
     "metadata": {
      "needs_background": "light"
     },
     "output_type": "display_data"
    }
   ],
   "source": [
    "# Visualize RMSE\n",
    "fig, ax = plt.subplots(1,2,figsize=(20,16), sharey=True)\n",
    "sns.lineplot(x=range(120), y=train_rmse_10, ax=ax[0], label='train rmse')\n",
    "sns.lineplot(x=range(120), y=test_rmse_10, ax=ax[0], label='test rmse')\n",
    "ax[0].set_title('f=10')\n",
    "ax[0].set_xlabel('epochs')\n",
    "ax[0].set_ylabel('RMSE')\n",
    "ax[0].legend()\n",
    "\n",
    "sns.lineplot(x=range(120), y=train_rmse_20, ax=ax[1], label='train rmse')\n",
    "sns.lineplot(x=range(120), y=test_rmse_20, ax=ax[1], label='test rmse')\n",
    "ax[1].set_title('f=20')\n",
    "ax[1].set_xlabel('epochs')\n",
    "ax[1].set_ylabel('RMSE')\n",
    "ax[1].legend();"
   ]
  },
  {
   "cell_type": "markdown",
   "metadata": {},
   "source": [
    "## Step 3: Post-processing\n",
    "Postporcessing is performed to improve accuracy.\n",
    "### 1) KNN with K=1\n",
    "We define similarity between movies i1 and i2 as the cosine similarity between vectors V_i1 and V_i2. Then we use the average rating of most similar movie as prediction. If there is no ratings for the closest movie, we set the prediction to 0."
   ]
  },
  {
   "cell_type": "code",
   "execution_count": 8,
   "metadata": {
    "colab": {},
    "colab_type": "code",
    "id": "W20F4BWGTpsK"
   },
   "outputs": [],
   "source": [
    "# Post processing using K Nearest Neighbors with K=1\n",
    "from sklearn.neighbors import NearestNeighbors\n",
    "start = time.time()\n",
    "model_knn = NearestNeighbors(metric='cosine', algorithm='brute', n_neighbors=1, n_jobs=-1)\n",
    "model_knn.fit(V.T)\n",
    "dist, ind = model_knn.kneighbors(V.T,2)\n",
    "nearest_movie = ind[:,1]+1\n",
    "end = time.time()\n",
    "\n",
    "knn_train_time = end-start"
   ]
  },
  {
   "cell_type": "code",
   "execution_count": 25,
   "metadata": {
    "colab": {
     "base_uri": "https://localhost:8080/",
     "height": 239
    },
    "colab_type": "code",
    "id": "8r5v6j4arQz7",
    "outputId": "020dc87c-c996-4667-ec9e-ac4f2bb2b307"
   },
   "outputs": [],
   "source": [
    "# Average rating of the nearest neighbor (0 if no ratings)\n",
    "movie_rates = data.groupby(['movieId'])['rating'].mean()\n",
    "start = time.time()\n",
    "test_nn = nearest_movie[test['movieId']-1]\n",
    "test['knn_preds'] = list(movie_rates[test_nn].fillna(0))\n",
    "end = time.time()\n",
    "\n",
    "train_nn = nearest_movie[train['movieId']-1]\n",
    "train['knn_preds'] = list(movie_rates[train_nn].fillna(0))\n",
    "\n",
    "knn_test_time = end-start"
   ]
  },
  {
   "cell_type": "code",
   "execution_count": 9,
   "metadata": {
    "colab": {
     "base_uri": "https://localhost:8080/",
     "height": 51
    },
    "colab_type": "code",
    "id": "Ew39P0yNcvaR",
    "outputId": "aa12d6c6-4dfa-4778-85a1-627578e61914"
   },
   "outputs": [],
   "source": [
    "# compute test and train RMSE of KNN prediction\n",
    "knn_test_rmse = sqrt(np.array(mean_squared_error(test['rating'],test['knn_preds'])))\n",
    "knn_train_rmse = sqrt(np.array(mean_squared_error(train['rating'],train['knn_preds'])))"
   ]
  },
  {
   "cell_type": "markdown",
   "metadata": {},
   "source": [
    "### 2) Kernel Ridge Regression\n",
    "Define y as user specific ratings. X consists of normalized vector of factors for movies rated by the user in each row. Using y and X, we solve Kernel Ridge Regression."
   ]
  },
  {
   "cell_type": "code",
   "execution_count": 27,
   "metadata": {
    "colab": {
     "base_uri": "https://localhost:8080/",
     "height": 1000
    },
    "colab_type": "code",
    "id": "jXakXkw80-dL",
    "outputId": "8825ccbf-7d01-4869-8993-0437872f31a3"
   },
   "outputs": [],
   "source": [
    "# Post processing using Kernel Ridge Regression\n",
    "from sklearn.kernel_ridge import KernelRidge\n",
    "from sklearn.preprocessing import normalize\n",
    "# For user specific ratings\n",
    "most_rated = data.groupby(['movieId']).count().sort_values(by = 'rating', ascending=False)\n",
    "krr_test_time = 0\n",
    "krr_train_time = 0\n",
    "\n",
    "for userId in range(1,num_users+1):\n",
    "    # get user specific data\n",
    "    start = time.time()\n",
    "    user_spec = train.loc[train['userId'] == userId]\n",
    "    end = time.time()\n",
    "    krr_train_time += end-start\n",
    "    \n",
    "    start = time.time()\n",
    "    user_spec_test = test.loc[test['userId'] == userId]\n",
    "    end = time.time()\n",
    "    krr_test_time += end-start\n",
    "    \n",
    "    if (len(user_spec)!=0) and (len(user_spec_test)!=0):\n",
    "        # use 500 most rated movies if the user rated more than 500 movies\n",
    "        start = time.time()\n",
    "        if(len(user_spec)>500):\n",
    "            user_spec['num_rates']=list(most_rated.loc[user_spec['movieId'],'rating'])\n",
    "            user_spec=user_spec.sort_values(by='num_rates', ascending=False)[:500]\n",
    "\n",
    "        # get X and y for Kernel Ridge Regression\n",
    "        X_train = normalize(V.T[user_spec['movieId']-1,:], axis=0)\n",
    "        y_train = user_spec['rating']\n",
    "\n",
    "        # Construct and train model\n",
    "        model_kr =  KernelRidge(kernel='rbf', alpha=0.5)\n",
    "        cls = model_kr.fit(X_train,y_train)\n",
    "        end = time.time()\n",
    "        krr_train_time += end-start\n",
    "        \n",
    "        # get predictions\n",
    "        start = time.time()\n",
    "        X_test = normalize(V.T[user_spec_test['movieId']-1,:], axis=0)\n",
    "        y_preds = cls.predict(X_test)\n",
    "        end = time.time()\n",
    "        krr_test_time += end-start\n",
    "        \n",
    "        train_preds = cls.predict(X_train)\n",
    "        test.loc[list(user_spec_test.index),'krr_preds'] = y_preds\n",
    "        train.loc[list(user_spec.index),'krr_preds'] = train_preds\n",
    "        if len((user_spec>500)): train['krr_preds'].fillna(0, inplace=True)"
   ]
  },
  {
   "cell_type": "code",
   "execution_count": 10,
   "metadata": {
    "colab": {
     "base_uri": "https://localhost:8080/",
     "height": 51
    },
    "colab_type": "code",
    "id": "kgLfg6_b9JLl",
    "outputId": "ce94744e-871a-4a13-8b2f-d1fd9d8cccdf"
   },
   "outputs": [],
   "source": [
    "# compute test and train RMSE of Kerner Ridge Regression prediction\n",
    "krr_test_rmse = sqrt(np.array(mean_squared_error(test['rating'],test['krr_preds'])))\n",
    "krr_train_rmse = sqrt(np.array(mean_squared_error(train['rating'],train['krr_preds'])))"
   ]
  },
  {
   "cell_type": "code",
   "execution_count": 11,
   "metadata": {},
   "outputs": [],
   "source": [
    "comp_time = pd.DataFrame(data = {'KNN':[knn_test_time, knn_train_time], 'KRR':[krr_test_time, krr_train_time]}, index = ['test_time', 'train_time'])"
   ]
  },
  {
   "cell_type": "markdown",
   "metadata": {},
   "source": [
    "## Step 4: Evaluation\n",
    "Using linear regression, we combine the predictions from PMF and each post-processed predictions. Then we use RMSE to evaluate the combined models.\n",
    "### 1) KNN with K=1"
   ]
  },
  {
   "cell_type": "code",
   "execution_count": 31,
   "metadata": {
    "colab": {},
    "colab_type": "code",
    "id": "38v0FZu4xKCs"
   },
   "outputs": [],
   "source": [
    "# Linear regression to combine PMF and KNN\n",
    "from sklearn.linear_model import LinearRegression\n",
    "lm_knn = LinearRegression(fit_intercept=False)\n",
    "lm_knn.fit(X = np.vstack([train['knn_preds'], train['pmf_preds']]).T, y = train['rating'])\n",
    "knn_beta1, knn_beta2 = lm_knn.coef_"
   ]
  },
  {
   "cell_type": "code",
   "execution_count": 14,
   "metadata": {},
   "outputs": [
    {
     "name": "stdout",
     "output_type": "stream",
     "text": [
      "beta for knn perdictions:-0.002726992838388865\n",
      "beta for pmf predictions: 1.0094466331127983\n"
     ]
    }
   ],
   "source": [
    "# betas for linear regression combining PMF and KNN\n",
    "print('beta for knn perdictions:{}'.format(knn_beta1))\n",
    "print('beta for pmf predictions: {}'.format(knn_beta2))"
   ]
  },
  {
   "cell_type": "code",
   "execution_count": 15,
   "metadata": {
    "colab": {
     "base_uri": "https://localhost:8080/",
     "height": 137
    },
    "colab_type": "code",
    "id": "KmlzDbPtxVcu",
    "outputId": "232a2018-f58e-45bb-9d3b-6fb1916f81ea"
   },
   "outputs": [],
   "source": [
    "# compute test and train rmse of KNN processed results\n",
    "test['knn_processed_preds'] = knn_beta1*test['knn_preds'] + knn_beta2*test['pmf_preds']\n",
    "pmf_knn_test_rmse = sqrt(mean_squared_error(test['rating'], test['knn_processed_preds']))"
   ]
  },
  {
   "cell_type": "code",
   "execution_count": 16,
   "metadata": {},
   "outputs": [],
   "source": [
    "# compute train rmse of KNN processed results\n",
    "train['knn_processed_preds'] = knn_beta1*train['knn_preds'] + knn_beta2*train['pmf_preds']\n",
    "pmf_knn_train_rmse = sqrt(mean_squared_error(train['rating'], train['knn_processed_preds']))"
   ]
  },
  {
   "cell_type": "markdown",
   "metadata": {},
   "source": [
    "### 2) Kernel Ridge Regression"
   ]
  },
  {
   "cell_type": "code",
   "execution_count": 34,
   "metadata": {
    "colab": {},
    "colab_type": "code",
    "id": "ZLQgwDhYtijq"
   },
   "outputs": [],
   "source": [
    "# Linear regression to combine PMF and KRR\n",
    "from sklearn.linear_model import LinearRegression\n",
    "lm_krr = LinearRegression(fit_intercept=False)\n",
    "lm_krr.fit(X = np.vstack([train['krr_preds'], train['pmf_preds']]).T, y = train['rating'])\n",
    "krr_beta1, krr_beta2 = lm_krr.coef_"
   ]
  },
  {
   "cell_type": "code",
   "execution_count": 19,
   "metadata": {},
   "outputs": [
    {
     "name": "stdout",
     "output_type": "stream",
     "text": [
      "beta for krr perdictions:0.020029670373081978\n",
      "beta for pmf predictions: 0.9892725124376046\n"
     ]
    }
   ],
   "source": [
    "# betas for linear regression combining PMF and KRR\n",
    "print('beta for krr perdictions:{}'.format(krr_beta1))\n",
    "print('beta for pmf predictions: {}'.format(krr_beta2))"
   ]
  },
  {
   "cell_type": "code",
   "execution_count": 20,
   "metadata": {
    "colab": {
     "base_uri": "https://localhost:8080/",
     "height": 137
    },
    "colab_type": "code",
    "id": "Mk6Kt8Uovuqq",
    "outputId": "5bed1e49-a612-454f-a2c8-6ec745911488"
   },
   "outputs": [],
   "source": [
    "# compute test rmse of KRR processed results\n",
    "test['krr_processed_preds'] = krr_beta1*test['krr_preds'] + krr_beta2*test['pmf_preds']\n",
    "pmf_krr_test_rmse = sqrt(mean_squared_error(test['rating'], test['krr_processed_preds']))"
   ]
  },
  {
   "cell_type": "code",
   "execution_count": 21,
   "metadata": {},
   "outputs": [],
   "source": [
    "# train rmse of KRR processed results\n",
    "train['krr_processed_preds'] = krr_beta1*train['krr_preds'] + krr_beta2*train['pmf_preds']\n",
    "pmf_krr_train_rmse = sqrt(mean_squared_error(train['rating'], train['krr_processed_preds']))"
   ]
  },
  {
   "cell_type": "code",
   "execution_count": 26,
   "metadata": {},
   "outputs": [],
   "source": [
    "rmfe_df = pd.DataFrame(data = {'PMF':[pmf_test_rmse, pmf_train_rmse], 'KNN':[knn_test_rmse, knn_train_rmse], 'KRR':[krr_test_rmse, krr_train_rmse], 'PMF_KNN':[pmf_knn_test_rmse, pmf_knn_train_rmse], 'PMF_KRR':[pmf_krr_test_rmse, pmf_krr_train_rmse]}, index = ['test_rmse', 'train_rmse'])"
   ]
  },
  {
   "cell_type": "code",
   "execution_count": 37,
   "metadata": {},
   "outputs": [],
   "source": [
    "# train.to_csv('train.csv')\n",
    "# test.to_csv('test.csv')"
   ]
  },
  {
   "cell_type": "markdown",
   "metadata": {},
   "source": [
    "### 3) Visualization in Boxplot"
   ]
  },
  {
   "cell_type": "code",
   "execution_count": 40,
   "metadata": {
    "colab": {},
    "colab_type": "code",
    "id": "MvyELOWh5cYt"
   },
   "outputs": [
    {
     "data": {
      "image/png": "[encoded data removed]",
      "text/plain": [
       "<Figure size 1440x1152 with 2 Axes>"
      ]
     },
     "metadata": {
      "needs_background": "light"
     },
     "output_type": "display_data"
    }
   ],
   "source": [
    "fig, ax = plt.subplots(1,2,figsize=(20,16), sharey=True)\n",
    "sns.boxplot(x='rating', y='knn_processed_preds', data=test, ax = ax[0])\n",
    "sns.boxplot(x='rating', y='krr_processed_preds', data=test, ax = ax[1])\n",
    "ax[0].set_title('KNN processed predictions')\n",
    "ax[1].set_title('KRR processed predictions');"
   ]
  },
  {
   "cell_type": "markdown",
   "metadata": {},
   "source": [
    "The predictions are higher when the actual ratings are higher. The betas for KNN predictions and KRR predictions are very small, so knn_processed_preds and krr_processed_preds, which are linear regression of each with PMF predictions, consist mostly of PMF predictions. Accordingly, the box plots for the two are very similar, and knn_processed_preds and krr_processed_preds are highly correlated."
   ]
  },
  {
   "cell_type": "code",
   "execution_count": 4,
   "metadata": {},
   "outputs": [
    {
     "data": {
      "text/html": [
       "<div>\n",
       "<style scoped>\n",
       "    .dataframe tbody tr th:only-of-type {\n",
       "        vertical-align: middle;\n",
       "    }\n",
       "\n",
       "    .dataframe tbody tr th {\n",
       "        vertical-align: top;\n",
       "    }\n",
       "\n",
       "    .dataframe thead th {\n",
       "        text-align: right;\n",
       "    }\n",
       "</style>\n",
       "<table border=\"1\" class=\"dataframe\">\n",
       "  <thead>\n",
       "    <tr style=\"text-align: right;\">\n",
       "      <th></th>\n",
       "      <th>knn_processed_preds</th>\n",
       "      <th>krr_processed_preds</th>\n",
       "    </tr>\n",
       "  </thead>\n",
       "  <tbody>\n",
       "    <tr>\n",
       "      <th>knn_processed_preds</th>\n",
       "      <td>1.000000</td>\n",
       "      <td>0.999557</td>\n",
       "    </tr>\n",
       "    <tr>\n",
       "      <th>krr_processed_preds</th>\n",
       "      <td>0.999557</td>\n",
       "      <td>1.000000</td>\n",
       "    </tr>\n",
       "  </tbody>\n",
       "</table>\n",
       "</div>"
      ],
      "text/plain": [
       "                     knn_processed_preds  krr_processed_preds\n",
       "knn_processed_preds             1.000000             0.999557\n",
       "krr_processed_preds             0.999557             1.000000"
      ]
     },
     "execution_count": 4,
     "metadata": {},
     "output_type": "execute_result"
    }
   ],
   "source": [
    "train[['knn_processed_preds','krr_processed_preds']].corr()"
   ]
  },
  {
   "cell_type": "code",
   "execution_count": 34,
   "metadata": {},
   "outputs": [
    {
     "data": {
      "text/html": [
       "<div>\n",
       "<style scoped>\n",
       "    .dataframe tbody tr th:only-of-type {\n",
       "        vertical-align: middle;\n",
       "    }\n",
       "\n",
       "    .dataframe tbody tr th {\n",
       "        vertical-align: top;\n",
       "    }\n",
       "\n",
       "    .dataframe thead th {\n",
       "        text-align: right;\n",
       "    }\n",
       "</style>\n",
       "<table border=\"1\" class=\"dataframe\">\n",
       "  <thead>\n",
       "    <tr style=\"text-align: right;\">\n",
       "      <th></th>\n",
       "      <th>KNN</th>\n",
       "      <th>KRR</th>\n",
       "    </tr>\n",
       "  </thead>\n",
       "  <tbody>\n",
       "    <tr>\n",
       "      <th>test_time</th>\n",
       "      <td>0.054995</td>\n",
       "      <td>2.551214</td>\n",
       "    </tr>\n",
       "    <tr>\n",
       "      <th>train_time</th>\n",
       "      <td>944.052324</td>\n",
       "      <td>5.460061</td>\n",
       "    </tr>\n",
       "  </tbody>\n",
       "</table>\n",
       "</div>"
      ],
      "text/plain": [
       "                   KNN       KRR\n",
       "test_time     0.054995  2.551214\n",
       "train_time  944.052324  5.460061"
      ]
     },
     "execution_count": 34,
     "metadata": {},
     "output_type": "execute_result"
    }
   ],
   "source": [
    "comp_time"
   ]
  },
  {
   "cell_type": "code",
   "execution_count": 37,
   "metadata": {},
   "outputs": [
    {
     "data": {
      "text/html": [
       "<div>\n",
       "<style scoped>\n",
       "    .dataframe tbody tr th:only-of-type {\n",
       "        vertical-align: middle;\n",
       "    }\n",
       "\n",
       "    .dataframe tbody tr th {\n",
       "        vertical-align: top;\n",
       "    }\n",
       "\n",
       "    .dataframe thead th {\n",
       "        text-align: right;\n",
       "    }\n",
       "</style>\n",
       "<table border=\"1\" class=\"dataframe\">\n",
       "  <thead>\n",
       "    <tr style=\"text-align: right;\">\n",
       "      <th></th>\n",
       "      <th>PMF</th>\n",
       "      <th>KNN</th>\n",
       "      <th>KRR</th>\n",
       "      <th>PMF_KNN</th>\n",
       "      <th>PMF_KRR</th>\n",
       "    </tr>\n",
       "  </thead>\n",
       "  <tbody>\n",
       "    <tr>\n",
       "      <th>test_rmse</th>\n",
       "      <td>1.153616</td>\n",
       "      <td>1.526282</td>\n",
       "      <td>0.932927</td>\n",
       "      <td>1.154128</td>\n",
       "      <td>1.142635</td>\n",
       "    </tr>\n",
       "    <tr>\n",
       "      <th>train_rmse</th>\n",
       "      <td>0.699220</td>\n",
       "      <td>1.349358</td>\n",
       "      <td>1.385064</td>\n",
       "      <td>0.698768</td>\n",
       "      <td>0.698402</td>\n",
       "    </tr>\n",
       "  </tbody>\n",
       "</table>\n",
       "</div>"
      ],
      "text/plain": [
       "                 PMF       KNN       KRR   PMF_KNN   PMF_KRR\n",
       "test_rmse   1.153616  1.526282  0.932927  1.154128  1.142635\n",
       "train_rmse  0.699220  1.349358  1.385064  0.698768  0.698402"
      ]
     },
     "execution_count": 37,
     "metadata": {},
     "output_type": "execute_result"
    }
   ],
   "source": [
    "rmse_df"
   ]
  },
  {
   "cell_type": "markdown",
   "metadata": {},
   "source": [
    "From the results above, we can observe that KRR post-processed results are better off by 0.01 RMSE compared to PMF predictions. The test RMSE for the KRR predictions is lower than train RMSE, indicating that the model may be underfitting and has more room to improve. We used the same parameters as given in the paper for this model, but with parameter tuning we may get better results. On the other hand, KNN post-processed results are similar to PMF (worse off by 0.0005 RMSE). A possible explanation is that we use K=1 so the KNN predictions only depend on a single nearest item. This may have caused noised due to overfitting and have evened out the ensemble effect. Also, we are not given ratings for every movie in the first place, and more movies have been omitted as we set the KNN prediction to 0 for movies without ratings. Accordingly, almost half of the test prediction with KNN was set to 0. KNN may perform better with more data available and/or with larger K."
   ]
  }
 ],
 "metadata": {
  "colab": {
   "collapsed_sections": [],
   "name": "PMF_main_2",
   "provenance": []
  },
  "kernelspec": {
   "display_name": "Python 3",
   "language": "python",
   "name": "python3"
  },
  "language_info": {
   "codemirror_mode": {
    "name": "ipython",
    "version": 3
   },
   "file_extension": ".py",
   "mimetype": "text/x-python",
   "name": "python",
   "nbconvert_exporter": "python",
   "pygments_lexer": "ipython3",
   "version": "3.7.3"
  }
 },
 "nbformat": 4,
 "nbformat_minor": 1
}
